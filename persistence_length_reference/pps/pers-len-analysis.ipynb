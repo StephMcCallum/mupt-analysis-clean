{
 "cells": [
  {
   "cell_type": "code",
   "execution_count": 1,
   "id": "5f25ce2d-e4de-422c-87d8-2648e5465809",
   "metadata": {},
   "outputs": [],
   "source": [
    "import gsd\n",
    "import gsd.hoomd\n",
    "import MDAnalysis as mda\n",
    "import numpy as np\n",
    "from MDAnalysis.analysis import polymer\n",
    "import matplotlib.pyplot as plt\n",
    "import scipy"
   ]
  },
  {
   "cell_type": "code",
   "execution_count": 2,
   "id": "e7c86440-21fe-4b78-9e94-7770a1740ad8",
   "metadata": {},
   "outputs": [],
   "source": [
    "def time_persistence_length(\n",
    "    gsd_file, select_atoms_arg, window_size, start=0, stop=1\n",
    "):\n",
    "    \"\"\"Performs time-average sampling of persistence length using MDAnalysis.\n",
    "\n",
    "    See:\n",
    "    https://docs.mdanalysis.org/stable/documentation_pages/analysis/polymer.html\n",
    "\n",
    "    Parameters\n",
    "    ----------\n",
    "    gsd_file : str; required\n",
    "        Path to a gsd_file\n",
    "    slect_atoms_arg : str; required\n",
    "        Valid argument to MDAnalysis.universe.select_atoms\n",
    "    window_size : int; required\n",
    "        The number of frames to use in\n",
    "    start: int; optional; default 0\n",
    "        The frame index of the trajectory to begin with\n",
    "    stop: int; optional; default -1\n",
    "        The frame index of the trajectory to end with\n",
    "    \"\"\"\n",
    "    lp_results = []\n",
    "    sampling_windows = np.arange(start, stop + 1, window_size)\n",
    "    for idx, frame in enumerate(sampling_windows):\n",
    "        try:\n",
    "            u = mda.Universe(gsd_file)\n",
    "            chains = u.atoms.fragments\n",
    "            backbones = [\n",
    "                chain.select_atoms(select_atoms_arg) for chain in chains\n",
    "            ]\n",
    "            sorted_backbones = [polymer.sort_backbone(bb) for bb in backbones]\n",
    "            _pl = polymer.PersistenceLength(sorted_backbones)\n",
    "            pl = _pl.run(start=frame, stop=sampling_windows[idx + 1] - 1)\n",
    "            lp_results.append(pl.results.lp)\n",
    "        except IndexError:\n",
    "            pass\n",
    "    return np.mean(lp_results), np.std(lp_results)"
   ]
  },
  {
   "cell_type": "code",
   "execution_count": 3,
   "id": "8d106e3c-3e32-4f7b-b198-105b06f25faa",
   "metadata": {},
   "outputs": [],
   "source": [
    "def exp_seg_persistence_length(filepath,start=0,stop=-1,interval=1):\n",
    "    \"\"\"\n",
    "    filepath needs to be a format in which you can\n",
    "    create an mdanalysis universe from, we mostly use gsd files\n",
    "    \"\"\"\n",
    "    u = mda.Universe(topology=filepath)\n",
    "\n",
    "    \"\"\"rewrite atom indices\"\"\"\n",
    "    bond_indices = []\n",
    "    particle_index = [0]\n",
    "    for i in range(len(u.bonds)):\n",
    "        a = u.bonds[i].atoms.indices\n",
    "        bond_indices.append(list(a))\n",
    "        if particle_index[-1] in bond_indices[i]:\n",
    "            atom1 = bond_indices[i][0]\n",
    "            atom2 = bond_indices[i][1]\n",
    "            if atom1 not in particle_index:\n",
    "                particle_index.append(atom1)\n",
    "            if atom2 not in particle_index:\n",
    "                particle_index.append(atom2)\n",
    "\n",
    "    \"\"\"create bonds list\"\"\"\n",
    "    av = []\n",
    "    bond_len = []\n",
    "    for t in u.trajectory[start:stop:interval]:\n",
    "        particle_positions = []\n",
    "        bonds = []\n",
    "        unit_bonds = []\n",
    "        bond_lengths = []\n",
    "        angles = []\n",
    "\n",
    "        for i in particle_index:\n",
    "            pos = t.positions[i]\n",
    "            particle_positions.append(pos)\n",
    "        for i in range(len(u.bonds)):\n",
    "            b = particle_positions[i+1]-particle_positions[i]\n",
    "            bonds.append(b)\n",
    "            l2 = t.dimensions[0]/2\n",
    "            for i,b in enumerate(bonds):\n",
    "                for j,x in enumerate(b):\n",
    "                    if x>l2:\n",
    "                        bonds[i][j] = x-l2*2\n",
    "                    if x<-l2:\n",
    "                        bonds[i][j] = x+l2*2\n",
    "            a = b/np.linalg.norm(b)\n",
    "            unit_bonds.append(a)\n",
    "            length = np.linalg.norm(b)\n",
    "            bond_lengths.append(length)\n",
    "            #l_b = np.mean(bond_lengths)\n",
    "        bond_len.append(bond_lengths)\n",
    "\n",
    "        for i in range(len(unit_bonds)-1):\n",
    "            b1 = unit_bonds[0]\n",
    "            b2 = unit_bonds[0+i]\n",
    "            dot_product = np.dot(b1,b2)\n",
    "            angles.append(dot_product)\n",
    "\n",
    "        n=len(u.atoms)\n",
    "        n_frames = 1\n",
    "        n_chains = 1\n",
    "        norm = np.linspace(n - 1, 1, n - 1)\n",
    "        norm *= n_chains * n_frames\n",
    "        auto = autocorr1D(angles)\n",
    "        av.append(auto)\n",
    "\n",
    "    '''average the data from trajectories together'''\n",
    "    sums = []\n",
    "    for j in range(len(av[0])):\n",
    "        k = []\n",
    "        for i in range(len(av)):\n",
    "            a = av[i][j]\n",
    "            k.append(a)\n",
    "        sum = np.sum(k)\n",
    "        sums.append(sum)\n",
    "    l_b = np.average(bond_len)\n",
    "    result = [x/len(av) for x in sums]\n",
    "    x = [i for i in range(len(sums))]\n",
    "\n",
    "    '''set negative results to 0'''\n",
    "    for r in range(len(result)):\n",
    "        if result[r] < 0:\n",
    "            result[r] = 0\n",
    "    def expfunc(x, a):\n",
    "        return np.exp(-x/a)\n",
    "\n",
    "    exp_coeff = scipy.optimize.curve_fit(expfunc,x,result)[0][0]\n",
    "\n",
    "    l_p = exp_coeff * l_b\n",
    "\n",
    "    fit = np.exp(-(x/exp_coeff))\n",
    "\n",
    "    return l_p, l_b, x, result, fit"
   ]
  },
  {
   "cell_type": "code",
   "execution_count": 4,
   "id": "5a73df0d-c475-446c-9351-975a2f8eedc1",
   "metadata": {},
   "outputs": [
    {
     "name": "stdout",
     "output_type": "stream",
     "text": [
      "nan +/- nan\n"
     ]
    },
    {
     "name": "stderr",
     "output_type": "stream",
     "text": [
      "/Users/stephaniemccallum/miniforge3/envs/mupt-analysis/lib/python3.12/site-packages/numpy/_core/fromnumeric.py:3860: RuntimeWarning: Mean of empty slice.\n",
      "  return _methods._mean(a, axis=axis, dtype=dtype,\n",
      "/Users/stephaniemccallum/miniforge3/envs/mupt-analysis/lib/python3.12/site-packages/numpy/_core/_methods.py:144: RuntimeWarning: invalid value encountered in scalar divide\n",
      "  ret = ret.dtype.type(ret / rcount)\n",
      "/Users/stephaniemccallum/miniforge3/envs/mupt-analysis/lib/python3.12/site-packages/numpy/_core/_methods.py:222: RuntimeWarning: Degrees of freedom <= 0 for slice\n",
      "  ret = _var(a, axis=axis, dtype=dtype, out=out, ddof=ddof,\n",
      "/Users/stephaniemccallum/miniforge3/envs/mupt-analysis/lib/python3.12/site-packages/numpy/_core/_methods.py:180: RuntimeWarning: invalid value encountered in divide\n",
      "  arrmean = um.true_divide(arrmean, div, out=arrmean,\n",
      "/Users/stephaniemccallum/miniforge3/envs/mupt-analysis/lib/python3.12/site-packages/numpy/_core/_methods.py:214: RuntimeWarning: invalid value encountered in scalar divide\n",
      "  ret = ret.dtype.type(ret / rcount)\n"
     ]
    }
   ],
   "source": [
    "traj = 'cg-pps-trajectory-50.gsd'\n",
    "time_p_l, time_p_l_std = time_persistence_length(traj,select_atoms_arg='name A',window_size=10)\n",
    "print(time_p_l,'+/-',time_p_l_std)"
   ]
  },
  {
   "cell_type": "code",
   "execution_count": 18,
   "id": "86e82894-88ef-4d0e-9b1e-193c20bacdb5",
   "metadata": {},
   "outputs": [
    {
     "ename": "IndexError",
     "evalue": "list index out of range",
     "output_type": "error",
     "traceback": [
      "\u001b[31m---------------------------------------------------------------------------\u001b[39m",
      "\u001b[31mIndexError\u001b[39m                                Traceback (most recent call last)",
      "\u001b[36mCell\u001b[39m\u001b[36m \u001b[39m\u001b[32mIn[18]\u001b[39m\u001b[32m, line 1\u001b[39m\n\u001b[32m----> \u001b[39m\u001b[32m1\u001b[39m exp_p_l, bond_l, x, result, fit = \u001b[43mexp_seg_persistence_length\u001b[49m\u001b[43m(\u001b[49m\u001b[43mtraj\u001b[49m\u001b[43m)\u001b[49m\n",
      "\u001b[36mCell\u001b[39m\u001b[36m \u001b[39m\u001b[32mIn[13]\u001b[39m\u001b[32m, line 36\u001b[39m, in \u001b[36mexp_seg_persistence_length\u001b[39m\u001b[34m(filepath, start, stop, interval)\u001b[39m\n\u001b[32m     34\u001b[39m     particle_positions.append(pos)\n\u001b[32m     35\u001b[39m \u001b[38;5;28;01mfor\u001b[39;00m i \u001b[38;5;129;01min\u001b[39;00m \u001b[38;5;28mrange\u001b[39m(\u001b[38;5;28mlen\u001b[39m(u.bonds)):\n\u001b[32m---> \u001b[39m\u001b[32m36\u001b[39m     b = \u001b[43mparticle_positions\u001b[49m\u001b[43m[\u001b[49m\u001b[43mi\u001b[49m\u001b[43m+\u001b[49m\u001b[32;43m1\u001b[39;49m\u001b[43m]\u001b[49m-particle_positions[i]\n\u001b[32m     37\u001b[39m     bonds.append(b)\n\u001b[32m     38\u001b[39m     l2 = t.dimensions[\u001b[32m0\u001b[39m]/\u001b[32m2\u001b[39m\n",
      "\u001b[31mIndexError\u001b[39m: list index out of range"
     ]
    }
   ],
   "source": [
    "exp_p_l, bond_l, x, result, fit = exp_seg_persistence_length(traj)"
   ]
  },
  {
   "cell_type": "code",
   "execution_count": null,
   "id": "db432dc5-05f1-4370-ad2e-56caefa7d818",
   "metadata": {},
   "outputs": [],
   "source": []
  }
 ],
 "metadata": {
  "kernelspec": {
   "display_name": "Python 3 (ipykernel)",
   "language": "python",
   "name": "python3"
  },
  "language_info": {
   "codemirror_mode": {
    "name": "ipython",
    "version": 3
   },
   "file_extension": ".py",
   "mimetype": "text/x-python",
   "name": "python",
   "nbconvert_exporter": "python",
   "pygments_lexer": "ipython3",
   "version": "3.12.11"
  }
 },
 "nbformat": 4,
 "nbformat_minor": 5
}
