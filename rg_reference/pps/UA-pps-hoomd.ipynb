{
 "cells": [
  {
   "cell_type": "code",
   "execution_count": 1,
   "id": "20db994d-966c-4021-b269-9b160fb9752a",
   "metadata": {},
   "outputs": [],
   "source": [
    "import warnings\n",
    "warnings.filterwarnings('ignore')\n",
    "import flowermd\n",
    "import hoomd\n",
    "import gsd\n",
    "import matplotlib.pyplot as plt\n",
    "import numpy as np\n",
    "import gsd.hoomd\n",
    "from flowermd.base import Pack, Simulation\n",
    "from flowermd.library import OPLS_AA_PPS,PPS\n",
    "from flowermd.utils import get_target_box_mass_density\n",
    "import unyt as u\n",
    "import hoomd\n",
    "\n",
    "cpu = hoomd.device.CPU()"
   ]
  },
  {
   "cell_type": "code",
   "execution_count": 2,
   "id": "6ab0b557-4a51-45fb-ad4b-e05fa3783379",
   "metadata": {},
   "outputs": [],
   "source": [
    "pps_chains = PPS(lengths=[15,17,19,22,30], num_mols=[3,2,1,3,1])\n",
    "system = Pack(molecules=[pps_chains], density=0.1)\n",
    "system.apply_forcefield(\n",
    "    r_cut=2.5,\n",
    "    force_field=OPLS_AA_PPS(),\n",
    "    auto_scale=True,\n",
    "    remove_hydrogens=True)"
   ]
  },
  {
   "cell_type": "code",
   "execution_count": 4,
   "id": "88c2d83f-5078-486c-b531-ead54f5057e8",
   "metadata": {},
   "outputs": [
    {
     "name": "stdout",
     "output_type": "stream",
     "text": [
      "No charged group detected, skipping electrostatics.\n"
     ]
    },
    {
     "data": {
      "text/plain": [
       "'\\ngsd_path=(\\'pps_trajectory0.gsd\\')\\nlog_path=(\\'pps_log0.txt\\')\\nsystem.to_gsd(\"pps_init_frame.gsd\")\\nlj_sim = Simulation.from_system(\\n    system=system,\\n    gsd_write_freq=int(1e5),\\n    gsd_file_name=gsd_path,\\n    log_file_name=log_path,\\n    dt=0.001,\\n    log_write_freq=int(1e5),\\n)\\ntarget_box = get_target_box_mass_density(density=system.density, mass=system.mass.to(\"g\"))\\nlj_sim.run_update_volume(final_box_lengths=target_box,kT=5.0,n_steps=1e4,tau_kt=5*lj_sim.dt,period=10)\\nlj_sim.run_NVT(n_steps=int(1e7), kT=5.0, tau_kt=10*lj_sim.dt)\\nlj_sim.flush_writers()\\nlj_sim.save_restart_gsd(\"pps_restart.gsd\")'"
      ]
     },
     "execution_count": 4,
     "metadata": {},
     "output_type": "execute_result"
    }
   ],
   "source": [
    "gsd_path=('ua-pps-trajectory0.gsd')\n",
    "log_path=('ua-pps-log0.txt')\n",
    "sim = Simulation.from_system(\n",
    "    system=system,\n",
    "    gsd_write_freq=int(1e5),\n",
    "    gsd_file_name=gsd_path,\n",
    "    log_file_name=log_path,\n",
    "    dt=0.001,\n",
    "    log_write_freq=int(1e5),\n",
    ")\n",
    "#target_box = get_target_box_mass_density(density=system.density, mass=system.mass.to(\"g\"))\n",
    "#lj_sim.run_update_volume(final_box_lengths=target_box,kT=5.0,n_steps=1e4,tau_kt=5*lj_sim.dt,period=10)\n",
    "sim.run_NVT(n_steps=int(1e7), kT=5.0, tau_kt=10*sim.dt)\n",
    "sim.flush_writers()\n",
    "sim.save_restart_gsd(\"pps_restart.gsd\")"
   ]
  },
  {
   "cell_type": "code",
   "execution_count": 40,
   "id": "45f2e51d-b8b8-4c6e-86cc-92929ab8aacc",
   "metadata": {},
   "outputs": [
    {
     "name": "stdout",
     "output_type": "stream",
     "text": [
      "[ 727.48708  834.95685  760.49311  931.42768  805.28198  739.72208\n",
      "  842.53447  866.46243  891.76662  856.44867  893.39384  910.12994\n",
      "  806.3869   796.34247  916.87258  992.37378  854.15857  890.50166\n",
      "  694.50774  815.77832  770.93469  761.83423  878.11445  790.21439\n",
      "  889.78855  825.43489  759.88784  875.4892   773.8543   787.80066\n",
      "  891.3053   792.40433  779.47384  912.21186  893.30654 1138.96\n",
      "  759.21959  688.68178  811.87708  801.37126  798.66241  810.76379\n",
      "  851.67323  757.94149  728.54321  809.97761  677.94876  867.8237\n",
      "  884.74994  871.43893  867.32038  829.08842  653.87137  951.5481\n",
      " 1153.06     622.55822  939.93338  811.08511  874.12353  814.97686\n",
      "  872.05211  850.60194  897.88662  876.42928  908.56003  809.85007\n",
      "  786.21598  709.11911  781.78074  934.87801  939.56702  826.21437\n",
      "  903.27135 1029.36     620.09085  914.41993  731.8364   720.76355\n",
      "  770.03664  849.84074  822.11342  904.09387  912.58049  934.91835\n",
      "  826.9228   838.05606  824.38168  834.77103  906.09295  887.32153\n",
      "  892.72611  745.10272  746.54486  788.34395  805.22889  902.44344\n",
      "  752.43855  809.54088  846.28318  911.99856]\n",
      "True\n"
     ]
    }
   ],
   "source": [
    "from cmeutils.sampling import is_equilibrated\n",
    "shrink_cut = 0\n",
    "log = np.genfromtxt('log1.txt', names=True)\n",
    "pe = log[\"mdcomputeThermodynamicQuantitiespotential_energy\"]\n",
    "# equil: bool (True or False), t0: int (starting data point that you can sample from), neff: number of data points in equilibrated region\n",
    "print(pe[shrink_cut:])\n",
    "equil, t0, g, neff = is_equilibrated(data=pe[shrink_cut:], threshold_neff=100) \n",
    "if equil:\n",
    "    print(\"True\")\n",
    "else:\n",
    "    # If it's not equilibrated, job.doc.equilibrated stays false, and the \"run-longer\" operation in project.py will run next time we submit this job\n",
    "    print(\"False\")"
   ]
  },
  {
   "cell_type": "code",
   "execution_count": null,
   "id": "e9f02091-da71-4462-b758-55bb6b7df611",
   "metadata": {},
   "outputs": [],
   "source": []
  }
 ],
 "metadata": {
  "kernelspec": {
   "display_name": "Python 3 (ipykernel)",
   "language": "python",
   "name": "python3"
  },
  "language_info": {
   "codemirror_mode": {
    "name": "ipython",
    "version": 3
   },
   "file_extension": ".py",
   "mimetype": "text/x-python",
   "name": "python",
   "nbconvert_exporter": "python",
   "pygments_lexer": "ipython3",
   "version": "3.12.11"
  }
 },
 "nbformat": 4,
 "nbformat_minor": 5
}
