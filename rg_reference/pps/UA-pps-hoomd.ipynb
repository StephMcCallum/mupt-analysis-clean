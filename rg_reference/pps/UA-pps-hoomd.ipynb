{
 "cells": [
  {
   "cell_type": "code",
   "execution_count": 1,
   "id": "20db994d-966c-4021-b269-9b160fb9752a",
   "metadata": {},
   "outputs": [],
   "source": [
    "import warnings\n",
    "warnings.filterwarnings('ignore')\n",
    "import flowermd\n",
    "import hoomd\n",
    "import gsd\n",
    "import matplotlib.pyplot as plt\n",
    "import numpy as np\n",
    "import gsd.hoomd\n",
    "from flowermd.base import Pack, Simulation\n",
    "from flowermd.library import OPLS_AA_PPS,PPS\n",
    "from flowermd.utils import get_target_box_mass_density\n",
    "import unyt as u\n",
    "import hoomd\n",
    "\n",
    "cpu = hoomd.device.CPU()"
   ]
  },
  {
   "cell_type": "code",
   "execution_count": 4,
   "id": "6ab0b557-4a51-45fb-ad4b-e05fa3783379",
   "metadata": {},
   "outputs": [],
   "source": [
    "pps_chains = PPS(lengths=[15,17,19,22,30], num_mols=[3,2,1,3,1])\n",
    "system = Pack(molecules=[pps_chains], density=0.1)\n",
    "system.apply_forcefield(\n",
    "    r_cut=2.5,\n",
    "    force_field=OPLS_AA_PPS(),\n",
    "    auto_scale=True,\n",
    "    remove_hydrogens=True)"
   ]
  },
  {
   "cell_type": "code",
   "execution_count": null,
   "id": "88c2d83f-5078-486c-b531-ead54f5057e8",
   "metadata": {},
   "outputs": [
    {
     "name": "stderr",
     "output_type": "stream",
     "text": [
      "*Warning*: charge.pppm: system is not neutral and unscreened interactions are calculated, the net charge is -1797.76\n",
      "*Warning*: charge.pppm: RMS error of 0.20868 is probably too high! 0.20868 0.20862\n"
     ]
    },
    {
     "name": "stdout",
     "output_type": "stream",
     "text": [
      "Initializing simulation state from a gsd.hoomd.Frame.\n"
     ]
    }
   ],
   "source": [
    "gsd_path=('cg-pps-trajectory0.gsd')\n",
    "log_path=('cg-pps-log0.txt')\n",
    "sim = Simulation.from_system(\n",
    "    system=system,\n",
    "    gsd_write_freq=int(1e5),\n",
    "    gsd_file_name=gsd_path,\n",
    "    log_file_name=log_path,\n",
    "    dt=0.001,\n",
    "    log_write_freq=int(1e5),\n",
    ")\n",
    "#target_box = get_target_box_mass_density(density=system.density, mass=system.mass.to(\"g\"))\n",
    "#lj_sim.run_update_volume(final_box_lengths=target_box,kT=5.0,n_steps=1e4,tau_kt=5*lj_sim.dt,period=10)\n",
    "sim.run_NVT(n_steps=int(1e7), kT=5.0, tau_kt=10*sim.dt)\n",
    "sim.flush_writers()\n",
    "sim.save_restart_gsd(\"pps_restart.gsd\")"
   ]
  },
  {
   "cell_type": "code",
   "execution_count": null,
   "id": "45f2e51d-b8b8-4c6e-86cc-92929ab8aacc",
   "metadata": {},
   "outputs": [],
   "source": [
    "from cmeutils.sampling import is_equilibrated\n",
    "shrink_cut = 0\n",
    "log = np.genfromtxt('log1.txt', names=True)\n",
    "pe = log[\"mdcomputeThermodynamicQuantitiespotential_energy\"]\n",
    "# equil: bool (True or False), t0: int (starting data point that you can sample from), neff: number of data points in equilibrated region\n",
    "print(pe[shrink_cut:])\n",
    "equil, t0, g, neff = is_equilibrated(data=pe[shrink_cut:], threshold_neff=100) \n",
    "if equil:\n",
    "    print(\"True\")\n",
    "else:\n",
    "    # If it's not equilibrated, job.doc.equilibrated stays false, and the \"run-longer\" operation in project.py will run next time we submit this job\n",
    "    print(\"False\")"
   ]
  },
  {
   "cell_type": "code",
   "execution_count": null,
   "id": "e9f02091-da71-4462-b758-55bb6b7df611",
   "metadata": {},
   "outputs": [],
   "source": []
  }
 ],
 "metadata": {
  "kernelspec": {
   "display_name": "Python 3 (ipykernel)",
   "language": "python",
   "name": "python3"
  },
  "language_info": {
   "codemirror_mode": {
    "name": "ipython",
    "version": 3
   },
   "file_extension": ".py",
   "mimetype": "text/x-python",
   "name": "python",
   "nbconvert_exporter": "python",
   "pygments_lexer": "ipython3",
   "version": "3.12.11"
  }
 },
 "nbformat": 4,
 "nbformat_minor": 5
}
