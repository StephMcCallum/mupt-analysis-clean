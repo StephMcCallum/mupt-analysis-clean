{
 "cells": [
  {
   "cell_type": "code",
   "execution_count": 8,
   "id": "20db994d-966c-4021-b269-9b160fb9752a",
   "metadata": {},
   "outputs": [],
   "source": [
    "import warnings\n",
    "warnings.filterwarnings('ignore')\n",
    "import flowermd\n",
    "import hoomd\n",
    "import gsd\n",
    "import matplotlib.pyplot as plt\n",
    "import numpy as np\n",
    "import gsd.hoomd\n",
    "from flowermd.base import Pack, Simulation\n",
    "from flowermd.library import OPLS_AA_PPS,PPS\n",
    "from flowermd.utils import get_target_box_mass_density\n",
    "import unyt as u\n",
    "import hoomd\n",
    "\n",
    "gpu = hoomd.device.GPU()"
   ]
  },
  {
   "cell_type": "code",
   "execution_count": 6,
   "id": "6ab0b557-4a51-45fb-ad4b-e05fa3783379",
   "metadata": {},
   "outputs": [
    {
     "name": "stdout",
     "output_type": "stream",
     "text": [
      "No charged group detected, skipping electrostatics.\n"
     ]
    }
   ],
   "source": [
    "pps_chains = PPS(lengths=[15,17,22], num_mols=[3,2,2])\n",
    "system = Pack(molecules=[pps_chains], density=0.1)\n",
    "system.apply_forcefield(\n",
    "    r_cut=2.5,\n",
    "    force_field=OPLS_AA_PPS(),\n",
    "    auto_scale=True,\n",
    "    remove_hydrogens=True,\n",
    "    remove_charges=True)"
   ]
  },
  {
   "cell_type": "code",
   "execution_count": 7,
   "id": "88c2d83f-5078-486c-b531-ead54f5057e8",
   "metadata": {},
   "outputs": [
    {
     "name": "stdout",
     "output_type": "stream",
     "text": [
      "Initializing simulation state from a gsd.hoomd.Frame.\n",
      "Step 100000 of 10000000; TPS: 9011.76; ETA: 18.3 minutes\n",
      "Step 200000 of 10000000; TPS: 9479.12; ETA: 17.2 minutes\n",
      "Step 300000 of 10000000; TPS: 9638.62; ETA: 16.8 minutes\n",
      "Step 400000 of 10000000; TPS: 9721.32; ETA: 16.5 minutes\n",
      "Step 500000 of 10000000; TPS: 9780.4; ETA: 16.2 minutes\n",
      "Step 600000 of 10000000; TPS: 9816.09; ETA: 16.0 minutes\n",
      "Step 700000 of 10000000; TPS: 9837.47; ETA: 15.8 minutes\n",
      "Step 800000 of 10000000; TPS: 9856.9; ETA: 15.6 minutes\n",
      "Step 900000 of 10000000; TPS: 9872.56; ETA: 15.4 minutes\n",
      "Step 1000000 of 10000000; TPS: 9880.8; ETA: 15.2 minutes\n",
      "Step 1100000 of 10000000; TPS: 9890.52; ETA: 15.0 minutes\n",
      "Step 1200000 of 10000000; TPS: 9895.3; ETA: 14.8 minutes\n",
      "Step 1300000 of 10000000; TPS: 9898.77; ETA: 14.6 minutes\n",
      "Step 1400000 of 10000000; TPS: 9901.11; ETA: 14.5 minutes\n",
      "Step 1500000 of 10000000; TPS: 9908.31; ETA: 14.3 minutes\n",
      "Step 1600000 of 10000000; TPS: 9912.23; ETA: 14.1 minutes\n",
      "Step 1700000 of 10000000; TPS: 9917.93; ETA: 13.9 minutes\n",
      "Step 1800000 of 10000000; TPS: 9922.38; ETA: 13.8 minutes\n",
      "Step 1900000 of 10000000; TPS: 9926.85; ETA: 13.6 minutes\n",
      "Step 2000000 of 10000000; TPS: 9929.52; ETA: 13.4 minutes\n",
      "Step 2100000 of 10000000; TPS: 9926.75; ETA: 13.3 minutes\n",
      "Step 2200000 of 10000000; TPS: 9930.41; ETA: 13.1 minutes\n",
      "Step 2300000 of 10000000; TPS: 9932.14; ETA: 12.9 minutes\n",
      "Step 2400000 of 10000000; TPS: 9934.83; ETA: 12.7 minutes\n",
      "Step 2500000 of 10000000; TPS: 9937.06; ETA: 12.6 minutes\n",
      "Step 2600000 of 10000000; TPS: 9939.21; ETA: 12.4 minutes\n",
      "Step 2700000 of 10000000; TPS: 9939.47; ETA: 12.2 minutes\n",
      "Step 2800000 of 10000000; TPS: 9940.78; ETA: 12.1 minutes\n",
      "Step 2900000 of 10000000; TPS: 9941.83; ETA: 11.9 minutes\n",
      "Step 3000000 of 10000000; TPS: 9945.13; ETA: 11.7 minutes\n",
      "Step 3100000 of 10000000; TPS: 9947.41; ETA: 11.6 minutes\n",
      "Step 3200000 of 10000000; TPS: 9949.0; ETA: 11.4 minutes\n",
      "Step 3300000 of 10000000; TPS: 9951.35; ETA: 11.2 minutes\n",
      "Step 3400000 of 10000000; TPS: 9952.81; ETA: 11.1 minutes\n",
      "Step 3500000 of 10000000; TPS: 9954.3; ETA: 10.9 minutes\n",
      "Step 3600000 of 10000000; TPS: 9956.3; ETA: 10.7 minutes\n",
      "Step 3700000 of 10000000; TPS: 9957.0; ETA: 10.5 minutes\n",
      "Step 3800000 of 10000000; TPS: 9958.25; ETA: 10.4 minutes\n",
      "Step 3900000 of 10000000; TPS: 9959.4; ETA: 10.2 minutes\n",
      "Step 4000000 of 10000000; TPS: 9959.84; ETA: 10.0 minutes\n",
      "Step 4100000 of 10000000; TPS: 9961.23; ETA: 9.9 minutes\n",
      "Step 4200000 of 10000000; TPS: 9960.98; ETA: 9.7 minutes\n",
      "Step 4300000 of 10000000; TPS: 9961.84; ETA: 9.5 minutes\n",
      "Step 4400000 of 10000000; TPS: 9962.79; ETA: 9.4 minutes\n",
      "Step 4500000 of 10000000; TPS: 9964.05; ETA: 9.2 minutes\n",
      "Step 4600000 of 10000000; TPS: 9964.13; ETA: 9.0 minutes\n",
      "Step 4700000 of 10000000; TPS: 9964.85; ETA: 8.9 minutes\n",
      "Step 4800000 of 10000000; TPS: 9966.53; ETA: 8.7 minutes\n",
      "Step 4900000 of 10000000; TPS: 9967.35; ETA: 8.5 minutes\n",
      "Step 5000000 of 10000000; TPS: 9968.65; ETA: 8.4 minutes\n",
      "Step 5100000 of 10000000; TPS: 9969.33; ETA: 8.2 minutes\n",
      "Step 5200000 of 10000000; TPS: 9970.58; ETA: 8.0 minutes\n",
      "Step 5300000 of 10000000; TPS: 9970.76; ETA: 7.9 minutes\n",
      "Step 5400000 of 10000000; TPS: 9971.56; ETA: 7.7 minutes\n",
      "Step 5500000 of 10000000; TPS: 9971.75; ETA: 7.5 minutes\n",
      "Step 5600000 of 10000000; TPS: 9971.89; ETA: 7.4 minutes\n",
      "Step 5700000 of 10000000; TPS: 9971.82; ETA: 7.2 minutes\n",
      "Step 5800000 of 10000000; TPS: 9972.45; ETA: 7.0 minutes\n",
      "Step 5900000 of 10000000; TPS: 9971.81; ETA: 6.9 minutes\n",
      "Step 6000000 of 10000000; TPS: 9971.98; ETA: 6.7 minutes\n",
      "Step 6100000 of 10000000; TPS: 9972.27; ETA: 6.5 minutes\n",
      "Step 6200000 of 10000000; TPS: 9972.55; ETA: 6.4 minutes\n",
      "Step 6300000 of 10000000; TPS: 9973.13; ETA: 6.2 minutes\n",
      "Step 6400000 of 10000000; TPS: 9973.07; ETA: 6.0 minutes\n",
      "Step 6500000 of 10000000; TPS: 9973.56; ETA: 5.8 minutes\n",
      "Step 6600000 of 10000000; TPS: 9974.13; ETA: 5.7 minutes\n",
      "Step 6700000 of 10000000; TPS: 9974.59; ETA: 5.5 minutes\n",
      "Step 6800000 of 10000000; TPS: 9974.83; ETA: 5.3 minutes\n",
      "Step 6900000 of 10000000; TPS: 9975.28; ETA: 5.2 minutes\n",
      "Step 7000000 of 10000000; TPS: 9976.08; ETA: 5.0 minutes\n",
      "Step 7100000 of 10000000; TPS: 9976.41; ETA: 4.8 minutes\n",
      "Step 7200000 of 10000000; TPS: 9977.11; ETA: 4.7 minutes\n",
      "Step 7300000 of 10000000; TPS: 9977.46; ETA: 4.5 minutes\n",
      "Step 7400000 of 10000000; TPS: 9978.3; ETA: 4.3 minutes\n",
      "Step 7500000 of 10000000; TPS: 9978.81; ETA: 4.2 minutes\n",
      "Step 7600000 of 10000000; TPS: 9979.32; ETA: 4.0 minutes\n",
      "Step 7700000 of 10000000; TPS: 9979.96; ETA: 3.8 minutes\n",
      "Step 7800000 of 10000000; TPS: 9980.78; ETA: 3.7 minutes\n",
      "Step 7900000 of 10000000; TPS: 9981.41; ETA: 3.5 minutes\n",
      "Step 8000000 of 10000000; TPS: 9982.81; ETA: 3.3 minutes\n",
      "Step 8100000 of 10000000; TPS: 9983.5; ETA: 3.2 minutes\n",
      "Step 8200000 of 10000000; TPS: 9984.14; ETA: 3.0 minutes\n",
      "Step 8300000 of 10000000; TPS: 9983.96; ETA: 2.8 minutes\n",
      "Step 8400000 of 10000000; TPS: 9984.06; ETA: 2.7 minutes\n",
      "Step 8500000 of 10000000; TPS: 9984.92; ETA: 2.5 minutes\n",
      "Step 8600000 of 10000000; TPS: 9985.34; ETA: 2.3 minutes\n",
      "Step 8700000 of 10000000; TPS: 9985.45; ETA: 2.2 minutes\n",
      "Step 8800000 of 10000000; TPS: 9985.96; ETA: 2.0 minutes\n",
      "Step 8900000 of 10000000; TPS: 9986.15; ETA: 1.8 minutes\n",
      "Step 9000000 of 10000000; TPS: 9986.61; ETA: 1.7 minutes\n",
      "Step 9100000 of 10000000; TPS: 9986.64; ETA: 1.5 minutes\n",
      "Step 9200000 of 10000000; TPS: 9986.54; ETA: 1.3 minutes\n",
      "Step 9300000 of 10000000; TPS: 9987.17; ETA: 1.2 minutes\n",
      "Step 9400000 of 10000000; TPS: 9987.57; ETA: 1.0 minutes\n",
      "Step 9500000 of 10000000; TPS: 9988.03; ETA: 0.8 minutes\n",
      "Step 9600000 of 10000000; TPS: 9988.66; ETA: 0.7 minutes\n",
      "Step 9700000 of 10000000; TPS: 9988.94; ETA: 0.5 minutes\n",
      "Step 9800000 of 10000000; TPS: 9988.75; ETA: 0.3 minutes\n",
      "Step 9900000 of 10000000; TPS: 9988.78; ETA: 0.2 minutes\n"
     ]
    }
   ],
   "source": [
    "gsd_path=('ua-pps-trajectory0.gsd')\n",
    "log_path=('ua-pps-log0.txt')\n",
    "sim = Simulation.from_system(\n",
    "    system=system,\n",
    "    gsd_write_freq=int(1e5),\n",
    "    gsd_file_name=gsd_path,\n",
    "    log_file_name=log_path,\n",
    "    dt=0.001,\n",
    "    log_write_freq=int(1e5),\n",
    "    device=gpu,\n",
    ")\n",
    "#target_box = get_target_box_mass_density(density=system.density, mass=system.mass.to(\"g\"))\n",
    "#lj_sim.run_update_volume(final_box_lengths=target_box,kT=5.0,n_steps=1e4,tau_kt=5*lj_sim.dt,period=10)\n",
    "sim.run_NVT(n_steps=int(1e7), kT=5.0, tau_kt=10*sim.dt)\n",
    "sim.flush_writers()\n",
    "sim.save_restart_gsd(\"pps_restart.gsd\")"
   ]
  },
  {
   "cell_type": "code",
   "execution_count": 10,
   "id": "45f2e51d-b8b8-4c6e-86cc-92929ab8aacc",
   "metadata": {},
   "outputs": [
    {
     "name": "stdout",
     "output_type": "stream",
     "text": [
      "[9203.39 8932.86 9084.6  9360.99 9330.16 9248.34 8945.21 9520.46 9229.16\n",
      " 8944.75 9010.49 9517.01 9038.07 8870.66 9140.81 9543.05 9048.4  8897.06\n",
      " 8591.42 8926.73 9214.55 9215.8  9168.46 9208.59 9124.16 9198.58 9092.48\n",
      " 9021.91 9349.28 9112.78 9104.4  9020.81 8976.22 9157.4  8818.23 9329.62\n",
      " 9105.75 9574.16 9053.49 9002.99 8970.11 9035.53 9172.47 9190.03 9126.92\n",
      " 8728.04 9308.22 9190.9  9110.82 8793.14 8975.25 9288.21 8835.22 8977.78\n",
      " 9023.84 9326.07 8840.74 8772.68 9028.49 8953.18 9345.78 9044.91 8806.64\n",
      " 9169.45 9275.77 9242.05 9084.35 9354.08 9027.57 9286.8  9152.93 8524.66\n",
      " 8815.65 8945.55 8714.06 8875.   9277.   8798.55 9169.83 9298.87 8923.45\n",
      " 9188.67 8659.64 9004.06 9323.93 8937.69 8961.04 8971.34 9146.55 9318.99\n",
      " 9161.68]\n",
      "True\n"
     ]
    }
   ],
   "source": [
    "from cmeutils.sampling import is_equilibrated\n",
    "shrink_cut = 10\n",
    "log = np.genfromtxt(log_path, names=True)\n",
    "pe = log[\"mdcomputeThermodynamicQuantitiespotential_energy\"]\n",
    "# equil: bool (True or False), t0: int (starting data point that you can sample from), neff: number of data points in equilibrated region\n",
    "print(pe[shrink_cut:])\n",
    "equil, t0, g, neff = is_equilibrated(data=pe[shrink_cut:], threshold_neff=50) \n",
    "if equil:\n",
    "    print(\"True\")\n",
    "else:\n",
    "    # If it's not equilibrated, job.doc.equilibrated stays false, and the \"run-longer\" operation in project.py will run next time we submit this job\n",
    "    print(\"False\")"
   ]
  },
  {
   "cell_type": "code",
   "execution_count": 4,
   "id": "e9f02091-da71-4462-b758-55bb6b7df611",
   "metadata": {},
   "outputs": [
    {
     "name": "stdout",
     "output_type": "stream",
     "text": [
      "Added 62 hydrogens.\n",
      "Added 90 hydrogens.\n",
      "Added 70 hydrogens.\n"
     ]
    }
   ],
   "source": [
    "import numpy as np\n",
    "import mbuild as mb\n",
    "\n",
    "from grits import CG_System\n",
    "from grits.utils import amber_dict\n",
    "\n",
    "PPS_smiles = \"c1ccc(S)cc1\"\n",
    "gsdfile = \"ua-pps-trajectory0.gsd\"\n",
    "system = CG_System(\n",
    "    gsdfile,\n",
    "    add_hydrogens=True,\n",
    "    beads={\"A\": PPS_smiles},\n",
    "    conversion_dict=amber_dict,\n",
    ")"
   ]
  },
  {
   "cell_type": "code",
   "execution_count": 5,
   "id": "d78ddae6-c410-426c-80b9-67387f36141b",
   "metadata": {},
   "outputs": [
    {
     "ename": "IndexError",
     "evalue": "index 34 is out of bounds for axis 0 with size 34",
     "output_type": "error",
     "traceback": [
      "\u001b[31m---------------------------------------------------------------------------\u001b[39m",
      "\u001b[31mIndexError\u001b[39m                                Traceback (most recent call last)",
      "\u001b[36mCell\u001b[39m\u001b[36m \u001b[39m\u001b[32mIn[5]\u001b[39m\u001b[32m, line 2\u001b[39m\n\u001b[32m      1\u001b[39m cg_gsd = \u001b[33m\"\u001b[39m\u001b[33mPPS-cg.gsd\u001b[39m\u001b[33m\"\u001b[39m\n\u001b[32m----> \u001b[39m\u001b[32m2\u001b[39m \u001b[43msystem\u001b[49m\u001b[43m.\u001b[49m\u001b[43msave\u001b[49m\u001b[43m(\u001b[49m\u001b[43mcg_gsd\u001b[49m\u001b[43m)\u001b[49m\n",
      "\u001b[36mFile \u001b[39m\u001b[32m~/miniforge3/envs/mupt-analysis/lib/python3.12/site-packages/grits/coarsegrain.py:716\u001b[39m, in \u001b[36mCG_System.save\u001b[39m\u001b[34m(self, cg_gsdfile, start, stop, stride)\u001b[39m\n\u001b[32m    711\u001b[39m N_bonds = \u001b[38;5;28mself\u001b[39m._bond_array.shape[\u001b[32m0\u001b[39m]\n\u001b[32m    712\u001b[39m \u001b[38;5;28;01mfor\u001b[39;00m bond \u001b[38;5;129;01min\u001b[39;00m \u001b[38;5;28mself\u001b[39m._bond_array:\n\u001b[32m    713\u001b[39m     bond_pair = \u001b[33m\"\u001b[39m\u001b[33m-\u001b[39m\u001b[33m\"\u001b[39m.join(\n\u001b[32m    714\u001b[39m         [\n\u001b[32m    715\u001b[39m             types[\u001b[38;5;28mint\u001b[39m(typeid[\u001b[38;5;28mint\u001b[39m(bond[\u001b[32m0\u001b[39m])])],\n\u001b[32m--> \u001b[39m\u001b[32m716\u001b[39m             types[\u001b[38;5;28mint\u001b[39m(\u001b[43mtypeid\u001b[49m\u001b[43m[\u001b[49m\u001b[38;5;28;43mint\u001b[39;49m\u001b[43m(\u001b[49m\u001b[43mbond\u001b[49m\u001b[43m[\u001b[49m\u001b[32;43m1\u001b[39;49m\u001b[43m]\u001b[49m\u001b[43m)\u001b[49m\u001b[43m]\u001b[49m)],\n\u001b[32m    717\u001b[39m         ]\n\u001b[32m    718\u001b[39m     )\n\u001b[32m    719\u001b[39m     \u001b[38;5;28;01mif\u001b[39;00m bond_pair \u001b[38;5;129;01mnot\u001b[39;00m \u001b[38;5;129;01min\u001b[39;00m bond_types:\n\u001b[32m    720\u001b[39m         bond_types.append(bond_pair)\n",
      "\u001b[31mIndexError\u001b[39m: index 34 is out of bounds for axis 0 with size 34"
     ]
    }
   ],
   "source": [
    "cg_gsd = \"PPS-cg.gsd\"\n",
    "system.save(cg_gsd)"
   ]
  },
  {
   "cell_type": "code",
   "execution_count": 6,
   "id": "cf36aa49-1f1c-41a9-9d63-2764b8c3b2a7",
   "metadata": {},
   "outputs": [
    {
     "name": "stdout",
     "output_type": "stream",
     "text": [
      "Mapping saved to test.json\n"
     ]
    }
   ],
   "source": [
    "system.save_mapping(filename='test.json')"
   ]
  },
  {
   "cell_type": "code",
   "execution_count": 9,
   "id": "d47acd1f-3b42-482a-aaa1-7a061c38f911",
   "metadata": {},
   "outputs": [],
   "source": [
    "from grits import CG_Compound\n",
    "from grits.utils import amber_dict\n",
    "\n",
    "pps_chains = PPS(lengths=[15,17,22], num_mols=[3,2,2])"
   ]
  },
  {
   "cell_type": "code",
   "execution_count": 10,
   "id": "ed997530-ea43-407d-bcce-4373973139e6",
   "metadata": {},
   "outputs": [],
   "source": [
    "pps_chains.coarse_grain(beads={\"A\": PPS_smiles})"
   ]
  },
  {
   "cell_type": "code",
   "execution_count": 15,
   "id": "71abc1ca-cf98-4697-ae27-a7fc55b53413",
   "metadata": {},
   "outputs": [
    {
     "data": {
      "text/plain": [
       "[<CG_Compound: 15 beads pos=(-0.0000, 0.1355,-4.4410), 14 bonds>,\n",
       " <CG_Compound: 15 beads pos=(-0.0000, 0.1355,-4.4410), 14 bonds>,\n",
       " <CG_Compound: 15 beads pos=(-0.0000, 0.1355,-4.4410), 14 bonds>,\n",
       " <CG_Compound: 17 beads pos=(-0.0000, 0.1533,-5.0755), 16 bonds>,\n",
       " <CG_Compound: 17 beads pos=(-0.0000, 0.1533,-5.0755), 16 bonds>,\n",
       " <CG_Compound: 22 beads pos=(-0.0000, 0.1978,-6.6619), 21 bonds>,\n",
       " <CG_Compound: 22 beads pos=(-0.0000, 0.1978,-6.6619), 21 bonds>]"
      ]
     },
     "execution_count": 15,
     "metadata": {},
     "output_type": "execute_result"
    }
   ],
   "source": [
    "pps_chains.molecules"
   ]
  },
  {
   "cell_type": "code",
   "execution_count": 12,
   "id": "ef93ad86-74cb-4646-a771-2da4f100c395",
   "metadata": {},
   "outputs": [
    {
     "ename": "AttributeError",
     "evalue": "'PPS' object has no attribute 'save'",
     "output_type": "error",
     "traceback": [
      "\u001b[31m---------------------------------------------------------------------------\u001b[39m",
      "\u001b[31mAttributeError\u001b[39m                            Traceback (most recent call last)",
      "\u001b[36mCell\u001b[39m\u001b[36m \u001b[39m\u001b[32mIn[12]\u001b[39m\u001b[32m, line 1\u001b[39m\n\u001b[32m----> \u001b[39m\u001b[32m1\u001b[39m \u001b[43mpps_chains\u001b[49m\u001b[43m.\u001b[49m\u001b[43msave\u001b[49m()\n",
      "\u001b[31mAttributeError\u001b[39m: 'PPS' object has no attribute 'save'"
     ]
    }
   ],
   "source": [
    "pps_chains"
   ]
  },
  {
   "cell_type": "code",
   "execution_count": null,
   "id": "d27765a0-8812-40ea-a03e-d350fe63f3b7",
   "metadata": {},
   "outputs": [],
   "source": []
  }
 ],
 "metadata": {
  "kernelspec": {
   "display_name": "Python 3 (ipykernel)",
   "language": "python",
   "name": "python3"
  },
  "language_info": {
   "codemirror_mode": {
    "name": "ipython",
    "version": 3
   },
   "file_extension": ".py",
   "mimetype": "text/x-python",
   "name": "python",
   "nbconvert_exporter": "python",
   "pygments_lexer": "ipython3",
   "version": "3.12.11"
  }
 },
 "nbformat": 4,
 "nbformat_minor": 5
}
