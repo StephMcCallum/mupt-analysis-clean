{
 "cells": [
  {
   "cell_type": "code",
   "execution_count": 1,
   "id": "a685be1b-b32d-4fce-bdd4-8502a5272427",
   "metadata": {},
   "outputs": [],
   "source": [
    "from cmeutils import gsd_utils\n",
    "import numpy as np\n",
    "import matplotlib.pyplot as plt\n",
    "import gsd.hoomd\n",
    "import freud"
   ]
  },
  {
   "cell_type": "code",
   "execution_count": 2,
   "id": "57478bf1-df2e-4ee0-9d89-45ed7af018af",
   "metadata": {},
   "outputs": [],
   "source": [
    "def get_molecule_cluster(gsd_file=None, snap=None, gsd_frame=-1):\n",
    "    \"\"\"Find molecule index for each particle.\n",
    "\n",
    "    Compute clusters of bonded molecules and return an array of the molecule\n",
    "    index of each particle.\n",
    "    Pass in either a gsd file or a snapshot, but not both\n",
    "\n",
    "    Parameters\n",
    "    ----------\n",
    "    gsd_file : str, default None\n",
    "        Filename of the gsd trajectory\n",
    "    snap : gsd.hoomd.Frame, default None\n",
    "        Trajectory snapshot.\n",
    "    gsd_frame : int, default -1\n",
    "        Frame number of gsd_file to use to compute clusters.\n",
    "\n",
    "    Returns\n",
    "    -------\n",
    "    numpy.ndarray (N_particles,)\n",
    "    \"\"\"\n",
    "    #snap = _validate_inputs(gsd_file, snap, gsd_frame)\n",
    "    system = freud.AABBQuery.from_system(snap)\n",
    "    n_query_points = n_points = snap.particles.N\n",
    "    query_point_indices = snap.bonds.group[:, 0]\n",
    "    point_indices = snap.bonds.group[:, 1]\n",
    "    box = freud.box.Box(\n",
    "        snap.configuration.box[0],\n",
    "        snap.configuration.box[1],\n",
    "        snap.configuration.box[2],\n",
    "    )\n",
    "    vectors = box.wrap(\n",
    "        snap.particles.position[query_point_indices]\n",
    "        - snap.particles.position[point_indices]\n",
    "    )\n",
    "    nlist = freud.NeighborList.from_arrays(\n",
    "        num_query_points=n_query_points,\n",
    "        num_points=n_points,\n",
    "        query_point_indices=query_point_indices,\n",
    "        point_indices=point_indices,\n",
    "        vectors=vectors,\n",
    "    )\n",
    "    cluster = freud.cluster.Cluster()\n",
    "    cluster.compute(system=system, neighbors=nlist)\n",
    "    cl_props = freud.cluster.ClusterProperties()\n",
    "    cl_props.compute(system, cluster.cluster_idx)\n",
    "    return cluster, cl_props"
   ]
  },
  {
   "cell_type": "code",
   "execution_count": 86,
   "id": "65fda8bf-0fbb-4f8f-80e9-ceb3ae609221",
   "metadata": {},
   "outputs": [],
   "source": [
    "def radius_of_gyration(gsd_file, start=0, stop=-1, stride=1):\n",
    "    \"\"\"Calculates the radius of gyration using Freud's cluster module.\n",
    "    Code written by Chris Jones, chrisjonesBSU\n",
    "\n",
    "    Parameters\n",
    "    ----------\n",
    "    gsd_file : str; required\n",
    "        Path to a gsd_file\n",
    "    start: int; optional; default 0\n",
    "        The frame index of the trajectory to begin with\n",
    "    stop: int; optional; default -1\n",
    "        The frame index of the trajectory to end with\n",
    "\n",
    "    Returns\n",
    "    -------\n",
    "    rg_array : List of arrays of floats\n",
    "        Array of individual chain Rg values for each frame\n",
    "    rg_means : List of floats\n",
    "        Average Rg values for each frame\n",
    "    rg_std : List of floats\n",
    "        Standard deviations of Rg values for each frame\n",
    "    \"\"\"\n",
    "    trajectory = gsd.hoomd.open(gsd_file, mode=\"r\")\n",
    "    rg_values = []\n",
    "    rg_means = []\n",
    "    rg_means_by_length = []\n",
    "    rg_std = []\n",
    "    for snap in trajectory[start:stop:stride]:\n",
    "        clusters, cl_props = get_molecule_cluster(snap=snap)\n",
    "        rg_values.append(cl_props.radii_of_gyration)\n",
    "    lengths = np.unique(cl_props.sizes)\n",
    "    rg_means.append(np.mean(rg_values,axis=0))\n",
    "    rg_std.append(np.std(rg_values,axis=0))\n",
    "    for j in lengths:\n",
    "        length_idx = np.where(cl_props.sizes==j)\n",
    "        idx = length_idx[0].tolist()\n",
    "        rg_means.append(np.mean(rg_values,axis=0))\n",
    "        rg_std.append(np.std(rg_values,axis=0))\n",
    "        lengths_temp = []\n",
    "        for i in idx:\n",
    "            lengths_temp.append((rg_means[0][i]))\n",
    "        rg_means_by_length.append(np.mean(lengths_temp))\n",
    "        rg_std.append(np.std(lengths_temp))\n",
    "    return rg_means_by_length, rg_std, rg_values, lengths"
   ]
  },
  {
   "cell_type": "code",
   "execution_count": 92,
   "id": "99169939-cb57-4429-b6c2-0f54e995767f",
   "metadata": {},
   "outputs": [],
   "source": [
    "gsd_path=('cg-pps-trajectory0.gsd')\n",
    "rg_means, rg_std, rg_values, N= radius_of_gyration(gsd_path,start=100,stride=1)"
   ]
  },
  {
   "cell_type": "code",
   "execution_count": 93,
   "id": "95fe1786-91b7-4615-a48e-ed0b282ef918",
   "metadata": {},
   "outputs": [
    {
     "data": {
      "text/plain": [
       "Text(0, 0.5, '<R_g>')"
      ]
     },
     "execution_count": 93,
     "metadata": {},
     "output_type": "execute_result"
    },
    {
     "data": {
      "image/png": "[encoded data removed]",
      "text/plain": [
       "<Figure size 640x480 with 1 Axes>"
      ]
     },
     "metadata": {},
     "output_type": "display_data"
    }
   ],
   "source": [
    "#plt.plot(rg_means)\n",
    "plt.scatter(N,rg_means)\n",
    "plt.title(\"Radius of Gyration of PPS\")\n",
    "plt.xlabel('N')\n",
    "plt.ylabel('<R_g>')\n",
    "#plt.legend()"
   ]
  },
  {
   "cell_type": "code",
   "execution_count": 94,
   "id": "2bea56c1-17c1-4aaf-976f-29067febe740",
   "metadata": {},
   "outputs": [
    {
     "name": "stdout",
     "output_type": "stream",
     "text": [
      "<R_g> over all frames:  5.0178485\n"
     ]
    }
   ],
   "source": [
    "print('<R_g> over all frames: ',np.mean(rg_means))"
   ]
  },
  {
   "cell_type": "code",
   "execution_count": null,
   "id": "1b08e59a-38b6-4737-9bcf-1096ef77fd6e",
   "metadata": {},
   "outputs": [],
   "source": []
  }
 ],
 "metadata": {
  "kernelspec": {
   "display_name": "Python 3 (ipykernel)",
   "language": "python",
   "name": "python3"
  },
  "language_info": {
   "codemirror_mode": {
    "name": "ipython",
    "version": 3
   },
   "file_extension": ".py",
   "mimetype": "text/x-python",
   "name": "python",
   "nbconvert_exporter": "python",
   "pygments_lexer": "ipython3",
   "version": "3.12.11"
  }
 },
 "nbformat": 4,
 "nbformat_minor": 5
}
