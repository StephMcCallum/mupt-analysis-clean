{
 "cells": [
  {
   "cell_type": "code",
   "execution_count": 124,
   "id": "984020bd",
   "metadata": {},
   "outputs": [],
   "source": [
    "import MDAnalysis as mda\n",
    "\n",
    "# Replace 'your_trajectory.gsd' with the actual path to your GSD file\n",
    "u = mda.Universe('trajectory1.gsd')\n",
    "\n",
    "# Now you can access the trajectory and topology information\n",
    "# For example, to iterate over the frames:\n",
    "# for ts in u.trajectory:\n",
    "#     print(f\"Frame: {ts.frame}, Time: {ts.time}\")\n",
    "\n",
    "# Accessing atom coordinates:\n",
    "#print(u.atoms.positions)\n",
    "\n",
    "# Note: If the GSD file contains varying numbers of particles or topologies, MDAnalysis may not handle it correctly.\n",
    "# It's best suited for trajectories with fixed topology and number of particles. [14]"
   ]
  },
  {
   "cell_type": "code",
   "execution_count": 122,
   "id": "acf85d20",
   "metadata": {},
   "outputs": [],
   "source": [
    "# for atom in u.atoms:\n",
    "#     print(f\"Atom ID: {atom.id}, Position: {atom.position}, Mass: {atom.mass}, Type: {atom.type}, Charge: {atom.charge}\")"
   ]
  },
  {
   "cell_type": "code",
   "execution_count": 123,
   "id": "d8b69314",
   "metadata": {},
   "outputs": [],
   "source": [
    "# dir(atom)"
   ]
  },
  {
   "cell_type": "code",
   "execution_count": 15,
   "id": "30b03558",
   "metadata": {},
   "outputs": [
    {
     "name": "stdout",
     "output_type": "stream",
     "text": [
      "Angle: <Angle between: Atom 97, Atom 98, Atom 99>, Atoms: <AtomGroup [<Atom 98: A of type A of resname 0, resid 0 and segid SYSTEM>, <Atom 99: A of type A of resname 0, resid 0 and segid SYSTEM>, <Atom 100: A of type A of resname 0, resid 0 and segid SYSTEM>]>, Value: 159.82548111749867\n"
     ]
    }
   ],
   "source": [
    "for angle in atom.angles:\n",
    "    print(f\"Angle: {angle}, Atoms: {angle.atoms}, Value: {angle.value()}\")"
   ]
  },
  {
   "cell_type": "code",
   "execution_count": null,
   "id": "a0db5536",
   "metadata": {},
   "outputs": [],
   "source": [
    "dir(u)"
   ]
  },
  {
   "cell_type": "code",
   "execution_count": 21,
   "id": "4d5b771d",
   "metadata": {},
   "outputs": [
    {
     "data": {
      "text/plain": [
       "<TopologyGroup containing 99 bonds>"
      ]
     },
     "execution_count": 21,
     "metadata": {},
     "output_type": "execute_result"
    }
   ],
   "source": [
    "u.bonds"
   ]
  },
  {
   "cell_type": "code",
   "execution_count": 22,
   "id": "4bc372b1",
   "metadata": {},
   "outputs": [
    {
     "data": {
      "text/plain": [
       "<TopologyGroup containing 97 dihedrals>"
      ]
     },
     "execution_count": 22,
     "metadata": {},
     "output_type": "execute_result"
    }
   ],
   "source": [
    "u.dihedrals"
   ]
  },
  {
   "cell_type": "code",
   "execution_count": 23,
   "id": "cd059da7",
   "metadata": {},
   "outputs": [
    {
     "data": {
      "text/plain": [
       "<TopologyGroup containing 98 angles>"
      ]
     },
     "execution_count": 23,
     "metadata": {},
     "output_type": "execute_result"
    }
   ],
   "source": [
    "u.angles"
   ]
  },
  {
   "cell_type": "code",
   "execution_count": 24,
   "id": "ed96c2e4",
   "metadata": {},
   "outputs": [
    {
     "data": {
      "text/plain": [
       "<TopologyGroup containing 0 impropers>"
      ]
     },
     "execution_count": 24,
     "metadata": {},
     "output_type": "execute_result"
    }
   ],
   "source": [
    "u.impropers"
   ]
  },
  {
   "cell_type": "markdown",
   "id": "551fce11",
   "metadata": {},
   "source": [
    "#### Working on implementing the bond distribution calculation using MDAnalysis"
   ]
  },
  {
   "cell_type": "code",
   "execution_count": 121,
   "id": "d9e2182f",
   "metadata": {},
   "outputs": [],
   "source": [
    "# for bond in u.bonds:\n",
    "#     print(f\"Bond: {bond}, Atoms: {bond.atoms}, Length: {bond.length()}\")"
   ]
  },
  {
   "cell_type": "markdown",
   "id": "5600e6a0",
   "metadata": {},
   "source": [
    "#### Reference Bond Distribution Function"
   ]
  },
  {
   "cell_type": "code",
   "execution_count": 113,
   "id": "ae7a044f",
   "metadata": {},
   "outputs": [],
   "source": [
    "import gsd.hoomd\n",
    "import numpy as np\n",
    "import warnings\n",
    "from cmeutils.plotting import get_histogram\n",
    "\n",
    "# This is the function that I need to convert into MDAnalysis\n",
    "# It currently uses gsd.hoomd to load in the GSD file\n",
    "# We want to use MDAnalysis to achieve the same functionality\n",
    "\n",
    "def bond_distribution(\n",
    "    gsd_file,\n",
    "    A_name,\n",
    "    B_name,\n",
    "    start=0,\n",
    "    stop=-1,\n",
    "    histogram=False,\n",
    "    l_min=0.0,\n",
    "    l_max=4.0,\n",
    "    normalize=True,\n",
    "    bins=100,\n",
    "):\n",
    "    \"\"\"Returns the bond length distribution for a given bond pair\n",
    "\n",
    "    Parameters\n",
    "    ----------\n",
    "    gsdfile : str\n",
    "        Filename of the GSD trajectory.\n",
    "    A_name, B_name : str\n",
    "        Name(s) of particles that form the bond pair\n",
    "        (found in gsd.hoomd.Frame.particles.types)\n",
    "    start : int\n",
    "        Starting frame index for accumulating bond lengths.\n",
    "        Negative numbers index from the end. (default 0)\n",
    "    stop : int\n",
    "        Final frame index for accumulating bond lengths. (default -1)\n",
    "    histogram : bool, default=False\n",
    "        If set to True, places the resulting bonds into a histogram\n",
    "        and retrums the histogram's bin centers and heights as\n",
    "        opposed to the actual calcualted bonds.\n",
    "    l_min : float, default = 0.0\n",
    "        Sets the minimum bond length to be included in the distribution\n",
    "    l_max : float, default = 5.0\n",
    "        Sets the maximum bond length value to be included in the distribution\n",
    "    normalize : bool, default=False\n",
    "        If set to True, normalizes the angle distribution by the\n",
    "        sum of the bin heights, so that the distribution adds up to 1.\n",
    "    bins : float, int, or str,  default=\"auto\"\n",
    "        The number of bins to use when finding the distribution\n",
    "        of bond angles. Using \"auto\" will set the number of\n",
    "        bins based on the ideal bin size for the data.\n",
    "        See the numpy.histogram docs for more details.\n",
    "\n",
    "    Returns\n",
    "    -------\n",
    "    1-D numpy.array  or 2-D numpy.array\n",
    "        If histogram is False, Array of actual bond angles in degrees\n",
    "        If histogram is True, returns a 2D array of bin centers and bin heights.\n",
    "\n",
    "    \"\"\"\n",
    "    trajectory = gsd.hoomd.open(gsd_file, mode=\"r\")\n",
    "    name = \"-\".join([A_name, B_name])\n",
    "    name_rev = \"-\".join([B_name, A_name])\n",
    "\n",
    "    bonds = []\n",
    "    for snap in trajectory[start:stop]:\n",
    "        if name not in snap.bonds.types and name_rev not in snap.bonds.types:\n",
    "            raise ValueError(\n",
    "                f\"Bond types {name} or {name_rev} not found \"\n",
    "                \"snap.bonds.types.\"\n",
    "            )\n",
    "        for idx, bond in enumerate(snap.bonds.typeid):\n",
    "            bond_name = snap.bonds.types[bond]\n",
    "            if bond_name in [name, name_rev]:\n",
    "                pos1 = snap.particles.position[snap.bonds.group[idx][0]]\n",
    "                img1 = snap.particles.image[snap.bonds.group[idx][0]]\n",
    "                pos2 = snap.particles.position[snap.bonds.group[idx][1]]\n",
    "                img2 = snap.particles.image[snap.bonds.group[idx][1]]\n",
    "                pos1_unwrap = pos1 + (img1 * snap.configuration.box[:3])\n",
    "                pos2_unwrap = pos2 + (img2 * snap.configuration.box[:3])\n",
    "                bonds.append(\n",
    "                    np.round(np.linalg.norm(pos2_unwrap - pos1_unwrap), 3)\n",
    "                )\n",
    "                #print(bonds[idx])\n",
    "    trajectory.close()\n",
    "\n",
    "    print(\"meep\")\n",
    "    \n",
    "    np.savetxt('bonds_cmeutils.csv', np.array(bonds), delimiter=',')\n",
    "\n",
    "    if histogram:\n",
    "        if min(bonds) < l_min or max(bonds) > l_max:\n",
    "            warnings.warn(\n",
    "                \"There are bond lengths that fall outside of \"\n",
    "                \"your set l_min and l_max range. You may want to adjust \"\n",
    "                \"this range to include all bond lengths.\"\n",
    "            )\n",
    "        bin_centers, bin_heights = get_histogram(\n",
    "            data=np.array(bonds),\n",
    "            normalize=normalize,\n",
    "            bins=bins,\n",
    "            x_range=(l_min, l_max),\n",
    "        )\n",
    "        return np.stack((bin_centers, bin_heights)).T\n",
    "    else:\n",
    "        return np.array(bonds)"
   ]
  },
  {
   "cell_type": "code",
   "execution_count": 114,
   "id": "6710c354",
   "metadata": {},
   "outputs": [
    {
     "name": "stderr",
     "output_type": "stream",
     "text": [
      "<>:24: SyntaxWarning: invalid escape sequence '\\s'\n",
      "<>:24: SyntaxWarning: invalid escape sequence '\\s'\n",
      "/tmp/ipykernel_10463/2339630742.py:24: SyntaxWarning: invalid escape sequence '\\s'\n",
      "  plt.xlabel(\"$L$[$\\sigma$]\")\n"
     ]
    },
    {
     "name": "stdout",
     "output_type": "stream",
     "text": [
      "meep\n"
     ]
    },
    {
     "data": {
      "image/png": "[encoded data removed]",
      "text/plain": [
       "<Figure size 640x480 with 1 Axes>"
      ]
     },
     "metadata": {},
     "output_type": "display_data"
    }
   ],
   "source": [
    "#from cmeutils.structure import bond_distribution\n",
    "import matplotlib.pyplot as plt\n",
    "from scipy import signal\n",
    "\n",
    "fig = plt.figure()\n",
    "chains = 1\n",
    "bond = \"AA\"\n",
    "nbins=200\n",
    "weight_dist = np.zeros(nbins)\n",
    "adist = bond_distribution(\n",
    "    gsd_file = (\"trajectory1.gsd\"),\n",
    "    A_name=bond[0],\n",
    "    B_name=bond[1],\n",
    "    histogram=True,\n",
    "    normalize=True,\n",
    "    start=0,\n",
    "    bins=nbins\n",
    ")\n",
    "smooth = signal.savgol_filter(adist[:,1], window_length=7, polyorder=1)\n",
    "weight_dist += smooth\n",
    "\n",
    "plt.plot(adist[:,0], weight_dist/7, markersize=0)\n",
    "\n",
    "plt.xlabel(\"$L$[$\\sigma$]\")\n",
    "plt.ylabel(\"P($L$)\")\n",
    "plt.title(\"100-mer Single Chain, dt=0.001, kT=5.0, r0=1.0\")\n",
    "fig.tight_layout()"
   ]
  },
  {
   "cell_type": "code",
   "execution_count": 115,
   "id": "fd129cf2",
   "metadata": {},
   "outputs": [
    {
     "name": "stdout",
     "output_type": "stream",
     "text": [
      "name A or name A\n"
     ]
    }
   ],
   "source": [
    "import numpy as np\n",
    "\n",
    "# User will enter the 1-letter atom name for the bond\n",
    "# I.E. bond between A and A particles\n",
    "# NOTE this will not work if the name of the particles are not single letters\n",
    "\n",
    "bond = \"AA\"\n",
    "\n",
    "# What frame to start measuring bond info from\n",
    "start = 0\n",
    "\n",
    "# How many bins to use for the histogram\n",
    "nbins = 200\n",
    "\n",
    "\n",
    "A_name = bond[0]\n",
    "B_name = bond[1]\n",
    "\n",
    "# make the weight distribution for the histograms\n",
    "weight_dist = np.zeros(nbins)\n",
    "\n",
    "# generate the selection string so we only iterate over the atoms\n",
    "# that can possibly participate in the desired bond\n",
    "# I.E, if you have particles of type A, B, and C,\n",
    "# You don't want to consider bonds that involve B and C atoms\n",
    "\n",
    "selection_string =''\n",
    "\n",
    "for letter in bond:\n",
    "    selection_string += f\"name {letter} or \"\n",
    "\n",
    "selection_string = selection_string[:-4]  # Remove the last ' or '\n",
    "print(selection_string)\n",
    "\n",
    "# Select atoms based on the selection string\n",
    "relevent_atoms = u.select_atoms(selection_string)"
   ]
  },
  {
   "cell_type": "code",
   "execution_count": 116,
   "id": "68b1516c",
   "metadata": {},
   "outputs": [],
   "source": [
    "#### Helper function from cmeutils.plotting.py to get histogram data\n",
    "def get_histogram(data, normalize=False, bins=\"auto\", x_range=None):\n",
    "    \"\"\"Bins a 1-D array of data into a histogram using\n",
    "    the numpy.histogram method.\n",
    "\n",
    "    Parameters\n",
    "    ----------\n",
    "    data : 1-D numpy.array, required\n",
    "        Array of data used to generate the histogram\n",
    "    normalize : boolean, default=False\n",
    "        If set to true, normalizes the histogram bin heights\n",
    "        by the sum of data so that the distribution adds\n",
    "        up to 1\n",
    "    bins : float, int, or str, default=\"auto\"\n",
    "        Method used by numpy to determine bin borders.\n",
    "        Check the numpy.histogram docs for more details.\n",
    "    x_range : (float, float), default = None\n",
    "        The lower and upper range of the histogram bins.\n",
    "        If set to None, then the min and max values of data are used.\n",
    "\n",
    "    Returns\n",
    "    -------\n",
    "    bin_cetners : 1-D numpy.array\n",
    "        Array of the bin center values\n",
    "    bin_heights : 1-D numpy.array\n",
    "        Array of the bin height values\n",
    "\n",
    "    \"\"\"\n",
    "    bin_heights, bin_borders = np.histogram(\n",
    "        a=data, bins=bins, range=x_range, density=normalize\n",
    "    )\n",
    "    bin_widths = np.diff(bin_borders)\n",
    "    bin_centers = bin_borders[:-1] + bin_widths / 2\n",
    "    return bin_centers, bin_heights"
   ]
  },
  {
   "cell_type": "code",
   "execution_count": 117,
   "id": "97109814",
   "metadata": {},
   "outputs": [],
   "source": [
    "bond_name = \"AA\"\n",
    "\n",
    "first_atom = bond_name[0]\n",
    "second_atom = bond_name[1]\n",
    "\n",
    "verbose = False\n",
    "\n",
    "all_bonds = []\n",
    "\n",
    "# Select atoms based on the selection string\n",
    "for ts in u.trajectory[start:]:\n",
    "    relevent_atoms = u.select_atoms(selection_string)\n",
    "\n",
    "    for bond in relevent_atoms.bonds:\n",
    "        bonded_atoms = list(bond.atoms.names)\n",
    "        if first_atom in bonded_atoms and second_atom in bonded_atoms:\n",
    "            # if verbose:\n",
    "            #     #print(f\"Bond: {bond}, Atoms: {bond.atoms}, Length: {bond.length()}\")\n",
    "            # else:\n",
    "            #     #print(f\"Bond Length: {bond.length()} between atoms {bond.atoms.ix}\")\n",
    "            all_bonds.append(bond.length())\n",
    "\n",
    "# Plot the bond lengths as a histogram\n",
    "import numpy as np\n",
    "import warnings\n",
    "import matplotlib.pyplot as plt\n",
    "\n",
    "histogram = True\n",
    "normalize = True\n",
    "\n",
    "l_min = 0.0 # minimum bond length to include in the distribution\n",
    "l_max = 4.0 # maximum bond length to include in the distribution\n",
    "\n",
    "if histogram:\n",
    "        if min(all_bonds) < l_min or max(all_bonds) > l_max:\n",
    "            warnings.warn(\n",
    "                \"There are bond lengths that fall outside of \"\n",
    "                \"your set l_min and l_max range. You may want to adjust \"\n",
    "                \"this range to include all bond lengths.\"\n",
    "            )\n",
    "        bin_centers, bin_heights = get_histogram(\n",
    "            data=np.array(all_bonds),\n",
    "            normalize=normalize,\n",
    "            bins=nbins,\n",
    "            x_range=(l_min, l_max),\n",
    "        )\n",
    "        adist = np.stack((bin_centers, bin_heights)).T\n",
    "else:\n",
    "    adist = np.array(all_bonds)"
   ]
  },
  {
   "cell_type": "code",
   "execution_count": 118,
   "id": "dd8f0b85",
   "metadata": {},
   "outputs": [],
   "source": [
    "from scipy import signal"
   ]
  },
  {
   "cell_type": "code",
   "execution_count": 119,
   "id": "6d3beb53",
   "metadata": {},
   "outputs": [
    {
     "name": "stderr",
     "output_type": "stream",
     "text": [
      "<>:9: SyntaxWarning: invalid escape sequence '\\s'\n",
      "<>:9: SyntaxWarning: invalid escape sequence '\\s'\n",
      "/tmp/ipykernel_10463/3536444080.py:9: SyntaxWarning: invalid escape sequence '\\s'\n",
      "  plt.xlabel(\"$L$[$\\sigma$]\")\n"
     ]
    },
    {
     "data": {
      "image/png": "[encoded data removed]",
      "text/plain": [
       "<Figure size 640x480 with 1 Axes>"
      ]
     },
     "metadata": {},
     "output_type": "display_data"
    }
   ],
   "source": [
    "fig = plt.figure()\n",
    "\n",
    "weight_dist = np.zeros(nbins)\n",
    "smooth = signal.savgol_filter(adist[:,1], window_length=7, polyorder=1)\n",
    "weight_dist += smooth\n",
    "\n",
    "plt.plot(adist[:,0], weight_dist/7, markersize=0)\n",
    "\n",
    "plt.xlabel(\"$L$[$\\sigma$]\")\n",
    "plt.ylabel(\"P($L$)\")\n",
    "plt.title(\"100-mer Single Chain, dt=0.001, kT=5.0, r0=1.0\")\n",
    "fig.tight_layout()"
   ]
  },
  {
   "cell_type": "markdown",
   "id": "f7fc75da",
   "metadata": {},
   "source": [
    "#### Scratch for implementing angle distribution"
   ]
  },
  {
   "cell_type": "code",
   "execution_count": 126,
   "id": "ca4c83b0",
   "metadata": {},
   "outputs": [
    {
     "name": "stderr",
     "output_type": "stream",
     "text": [
      "<>:23: SyntaxWarning: invalid escape sequence '\\T'\n",
      "<>:24: SyntaxWarning: invalid escape sequence '\\T'\n",
      "<>:23: SyntaxWarning: invalid escape sequence '\\T'\n",
      "<>:24: SyntaxWarning: invalid escape sequence '\\T'\n",
      "/tmp/ipykernel_10463/108504955.py:23: SyntaxWarning: invalid escape sequence '\\T'\n",
      "  plt.xlabel(\"$\\Theta$ [rad]\")\n",
      "/tmp/ipykernel_10463/108504955.py:24: SyntaxWarning: invalid escape sequence '\\T'\n",
      "  plt.ylabel(\"P($\\Theta$)\")\n"
     ]
    },
    {
     "data": {
      "text/plain": [
       "Text(0, 0.5, 'P($\\\\Theta$)')"
      ]
     },
     "execution_count": 126,
     "metadata": {},
     "output_type": "execute_result"
    },
    {
     "data": {
      "image/png": "[encoded data removed]",
      "text/plain": [
       "<Figure size 640x480 with 1 Axes>"
      ]
     },
     "metadata": {},
     "output_type": "display_data"
    }
   ],
   "source": [
    "from cmeutils.structure import angle_distribution\n",
    "\n",
    "fig = plt.figure()\n",
    "chains = 1\n",
    "angle = \"AAA\"\n",
    "nbins = 200\n",
    "weight_dist = np.zeros(nbins)\n",
    "adist = angle_distribution(\n",
    "    gsd_file = (\"trajectory1.gsd\"),\n",
    "    A_name=angle[0],\n",
    "    B_name=angle[1],\n",
    "    C_name=angle[2],\n",
    "    histogram=True,\n",
    "    normalize=True,\n",
    "    start =0,\n",
    "    bins=nbins\n",
    "    )\n",
    "smooth = signal.savgol_filter(adist[:,1], window_length=7, polyorder=1)\n",
    "weight_dist += smooth\n",
    "\n",
    "plt.plot(adist[:,0], weight_dist/7, markersize=0)\n",
    "    \n",
    "plt.xlabel(\"$\\Theta$ [rad]\")\n",
    "plt.ylabel(\"P($\\Theta$)\")"
   ]
  },
  {
   "cell_type": "markdown",
   "id": "c20f0bbe",
   "metadata": {},
   "source": [
    "##### Angle function that needs to be rewritten in MDAnalysis"
   ]
  },
  {
   "cell_type": "code",
   "execution_count": null,
   "id": "447729b8",
   "metadata": {},
   "outputs": [],
   "source": [
    "def angle_distribution(\n",
    "    gsd_file,\n",
    "    A_name,\n",
    "    B_name,\n",
    "    C_name,\n",
    "    start=0,\n",
    "    stop=-1,\n",
    "    degrees=False,\n",
    "    histogram=False,\n",
    "    theta_min=0.0,\n",
    "    theta_max=None,\n",
    "    normalize=False,\n",
    "    bins=\"auto\",\n",
    "):\n",
    "    \"\"\"Returns the bond angle distribution for a given triplet of particles\n",
    "\n",
    "    Parameters\n",
    "    ----------\n",
    "    gsdfile : str\n",
    "        Filename of the GSD trajectory.\n",
    "    A_name, B_name, C_name : str\n",
    "        Name(s) of particles that form the angle triplet\n",
    "        (found in gsd.hoomd.Frame.particles.types)\n",
    "        They must be given in the same order as they form the angle\n",
    "    start : int\n",
    "        Starting frame index for accumulating bond lengths.\n",
    "        Negative numbers index from the end. (default 0)\n",
    "    stop : int\n",
    "        Final frame index for accumulating bond lengths. (default -1)\n",
    "    degrees : bool, default=False\n",
    "        If True, the angle values are returned in degrees.\n",
    "        if False, the angle values are returned in radians.\n",
    "    histogram : bool, default=False\n",
    "        If set to True, places the resulting angles into a histogram\n",
    "        and retrums the histogram's bin centers and heights as\n",
    "        opposed to the actual calcualted angles.\n",
    "    theta_min : float, default = 0.0\n",
    "        Sets the minimum theta value to be included in the distribution\n",
    "    theta_max : float, default = None\n",
    "        Sets the maximum theta value to be included in the distribution\n",
    "        If left as None, then theta_max will be either pi radians or\n",
    "        180 degrees depending on the value set for the degrees parameter\n",
    "    normalize : bool, default=False\n",
    "        If set to True, normalizes the angle distribution by the\n",
    "        sum of the bin heights, so that the distribution adds up to 1.\n",
    "    bins : float, int, or str,  default=\"auto\"\n",
    "        The number of bins to use when finding the distribution\n",
    "        of bond angles. Using \"auto\" will set the number of\n",
    "        bins based on the ideal bin size for the data.\n",
    "        See the numpy.histogram docs for more details.\n",
    "\n",
    "    Returns\n",
    "    -------\n",
    "    1-D numpy.array  or 2-D numpy.array\n",
    "        If histogram is False, Array of actual bond angles in degrees\n",
    "        If histogram is True, returns a 2D array of bin centers and bin heights.\n",
    "\n",
    "    \"\"\"\n",
    "    if not degrees and theta_max is None:\n",
    "        theta_max = np.pi\n",
    "    elif degrees and theta_max is None:\n",
    "        theta_max = 180\n",
    "\n",
    "    trajectory = gsd.hoomd.open(gsd_file, mode=\"r\")\n",
    "    name = \"-\".join([A_name, B_name, C_name])\n",
    "    name_rev = \"-\".join([C_name, B_name, A_name])\n",
    "\n",
    "    angles = []\n",
    "    for snap in trajectory[start:stop]:\n",
    "        if name not in snap.angles.types and name_rev not in snap.angles.types:\n",
    "            raise ValueError(\n",
    "                f\"Angles {name} or {name_rev} not found in \"\n",
    "                \" snap.angles.types. \"\n",
    "                \"A_name, B_name, C_name must match the order \"\n",
    "                \"as they appear in snap.angles.types.\"\n",
    "            )\n",
    "        for idx, angle_id in enumerate(snap.angles.typeid):\n",
    "            angle_name = snap.angles.types[angle_id]\n",
    "            if angle_name == name or angle_name == name_rev:\n",
    "                pos1 = snap.particles.position[snap.angles.group[idx][0]]\n",
    "                img1 = snap.particles.image[snap.angles.group[idx][0]]\n",
    "                pos2 = snap.particles.position[snap.angles.group[idx][1]]\n",
    "                img2 = snap.particles.image[snap.angles.group[idx][1]]\n",
    "                pos3 = snap.particles.position[snap.angles.group[idx][2]]\n",
    "                img3 = snap.particles.image[snap.angles.group[idx][2]]\n",
    "                pos1_unwrap = pos1 + (img1 * snap.configuration.box[:3])\n",
    "                pos2_unwrap = pos2 + (img2 * snap.configuration.box[:3])\n",
    "                pos3_unwrap = pos3 + (img3 * snap.configuration.box[:3])\n",
    "                u = pos1_unwrap - pos2_unwrap\n",
    "                v = pos3_unwrap - pos2_unwrap\n",
    "                angles.append(\n",
    "                    np.round(angle_between_vectors(u, v, False, degrees), 3)\n",
    "                )\n",
    "    trajectory.close()\n",
    "\n",
    "    if histogram:\n",
    "        if min(angles) < theta_min or max(angles) > theta_max:\n",
    "            warnings.warn(\n",
    "                \"There are bond angles that fall outside of \"\n",
    "                \"your set theta_min and theta_max range. \"\n",
    "                \"You may want to adjust this range to \"\n",
    "                \"include all bond angles.\"\n",
    "            )\n",
    "        bin_centers, bin_heights = get_histogram(\n",
    "            data=np.array(angles),\n",
    "            normalize=normalize,\n",
    "            bins=bins,\n",
    "            x_range=(theta_min, theta_max),\n",
    "        )\n",
    "        return np.stack((bin_centers, bin_heights)).T\n",
    "    else:\n",
    "        return np.array(angles)"
   ]
  },
  {
   "cell_type": "markdown",
   "id": "b8f75816",
   "metadata": {},
   "source": [
    "##### Begin Joe Scratch"
   ]
  },
  {
   "cell_type": "code",
   "execution_count": 131,
   "id": "89e40829",
   "metadata": {},
   "outputs": [
    {
     "data": {
      "text/plain": [
       "<Figure size 640x480 with 0 Axes>"
      ]
     },
     "metadata": {},
     "output_type": "display_data"
    }
   ],
   "source": [
    "# Load the GSD file using MDAnalysis\n",
    "\n",
    "fig = plt.figure()\n",
    "chains = 1\n",
    "angle = \"AAA\"\n",
    "nbins = 200\n",
    "weight_dist = np.zeros(nbins)\n",
    "\n",
    "# parameters for the angle distribution function\n",
    "gsd_file = \"trajectory1.gsd\"\n",
    "A_name=angle[0]\n",
    "B_name=angle[1]\n",
    "C_name=angle[2]\n",
    "histogram=True\n",
    "normalize=True\n",
    "start =0\n",
    "stop=-1 # default is to use all frames\n",
    "bins=nbins\n",
    "degrees=False\n",
    "\n",
    "theta_max = None  # default is None, will be set based on degrees\n",
    "theta_min = 0.0\n",
    "\n",
    "if not degrees and theta_max is None:\n",
    "    theta_max = np.pi\n",
    "elif degrees and theta_max is None:\n",
    "    theta_max = 180\n",
    "\n",
    "u = mda.Universe(gsd_file)\n"
   ]
  },
  {
   "cell_type": "code",
   "execution_count": null,
   "id": "e9eb740d",
   "metadata": {},
   "outputs": [],
   "source": [
    "for angle in u.atoms.angles:\n",
    "    print(f\"Angle: {angle}, Atoms: {angle.atoms}, Value: {angle.value()}\")"
   ]
  },
  {
   "cell_type": "code",
   "execution_count": 132,
   "id": "c4fed1b2",
   "metadata": {},
   "outputs": [
    {
     "name": "stdout",
     "output_type": "stream",
     "text": [
      "[[0.00785398 0.        ]\n",
      " [0.02356194 0.        ]\n",
      " [0.03926991 0.        ]\n",
      " [0.05497787 0.        ]\n",
      " [0.07068583 0.        ]\n",
      " [0.0863938  0.        ]\n",
      " [0.10210176 0.        ]\n",
      " [0.11780972 0.        ]\n",
      " [0.13351769 0.        ]\n",
      " [0.14922565 0.        ]\n",
      " [0.16493361 0.00656174]\n",
      " [0.18064158 0.        ]\n",
      " [0.19634954 0.        ]\n",
      " [0.2120575  0.        ]\n",
      " [0.22776547 0.        ]\n",
      " [0.24347343 0.        ]\n",
      " [0.25918139 0.        ]\n",
      " [0.27488936 0.        ]\n",
      " [0.29059732 0.        ]\n",
      " [0.30630528 0.        ]\n",
      " [0.32201325 0.        ]\n",
      " [0.33772121 0.        ]\n",
      " [0.35342917 0.        ]\n",
      " [0.36913714 0.        ]\n",
      " [0.3848451  0.        ]\n",
      " [0.40055306 0.        ]\n",
      " [0.41626103 0.        ]\n",
      " [0.43196899 0.        ]\n",
      " [0.44767695 0.        ]\n",
      " [0.46338492 0.        ]\n",
      " [0.47909288 0.        ]\n",
      " [0.49480084 0.        ]\n",
      " [0.51050881 0.00656174]\n",
      " [0.52621677 0.        ]\n",
      " [0.54192473 0.        ]\n",
      " [0.5576327  0.        ]\n",
      " [0.57334066 0.        ]\n",
      " [0.58904862 0.        ]\n",
      " [0.60475659 0.        ]\n",
      " [0.62046455 0.        ]\n",
      " [0.63617251 0.        ]\n",
      " [0.65188048 0.00656174]\n",
      " [0.66758844 0.        ]\n",
      " [0.6832964  0.        ]\n",
      " [0.69900437 0.        ]\n",
      " [0.71471233 0.        ]\n",
      " [0.73042029 0.        ]\n",
      " [0.74612826 0.        ]\n",
      " [0.76183622 0.        ]\n",
      " [0.77754418 0.        ]\n",
      " [0.79325215 0.        ]\n",
      " [0.80896011 0.        ]\n",
      " [0.82466807 0.        ]\n",
      " [0.84037603 0.        ]\n",
      " [0.856084   0.00656174]\n",
      " [0.87179196 0.        ]\n",
      " [0.88749992 0.00656174]\n",
      " [0.90320789 0.01968521]\n",
      " [0.91891585 0.        ]\n",
      " [0.93462381 0.        ]\n",
      " [0.95033178 0.00656174]\n",
      " [0.96603974 0.        ]\n",
      " [0.9817477  0.00656174]\n",
      " [0.99745567 0.        ]\n",
      " [1.01316363 0.        ]\n",
      " [1.02887159 0.        ]\n",
      " [1.04457956 0.00656174]\n",
      " [1.06028752 0.01312348]\n",
      " [1.07599548 0.01312348]\n",
      " [1.09170345 0.00656174]\n",
      " [1.10741141 0.03280869]\n",
      " [1.12311937 0.        ]\n",
      " [1.13882734 0.01312348]\n",
      " [1.1545353  0.01968521]\n",
      " [1.17024326 0.00656174]\n",
      " [1.18595123 0.00656174]\n",
      " [1.20165919 0.01968521]\n",
      " [1.21736715 0.03280869]\n",
      " [1.23307512 0.01312348]\n",
      " [1.24878308 0.01312348]\n",
      " [1.26449104 0.03280869]\n",
      " [1.28019901 0.01312348]\n",
      " [1.29590697 0.02624695]\n",
      " [1.31161493 0.04593216]\n",
      " [1.3273229  0.03280869]\n",
      " [1.34303086 0.06561738]\n",
      " [1.35873882 0.04593216]\n",
      " [1.37444679 0.04593216]\n",
      " [1.39015475 0.07874085]\n",
      " [1.40586271 0.02624695]\n",
      " [1.42157068 0.03280869]\n",
      " [1.43727864 0.03937043]\n",
      " [1.4529866  0.05905564]\n",
      " [1.46869457 0.04593216]\n",
      " [1.48440253 0.09186433]\n",
      " [1.50011049 0.06561738]\n",
      " [1.51581846 0.09186433]\n",
      " [1.53152642 0.08530259]\n",
      " [1.54723438 0.12467301]\n",
      " [1.56294235 0.17060518]\n",
      " [1.57865031 0.1574817 ]\n",
      " [1.59435827 0.09842606]\n",
      " [1.61006623 0.11811128]\n",
      " [1.6257742  0.13123475]\n",
      " [1.64148216 0.09186433]\n",
      " [1.65719012 0.15091996]\n",
      " [1.67289809 0.17716691]\n",
      " [1.68860605 0.22309908]\n",
      " [1.70431401 0.19685213]\n",
      " [1.72002198 0.17716691]\n",
      " [1.73572994 0.2099756 ]\n",
      " [1.7514379  0.24278429]\n",
      " [1.76714587 0.28871645]\n",
      " [1.78285383 0.24278429]\n",
      " [1.79856179 0.35433383]\n",
      " [1.81426976 0.30840166]\n",
      " [1.82997772 0.28871645]\n",
      " [1.84568568 0.3674573 ]\n",
      " [1.86139365 0.4199512 ]\n",
      " [1.87710161 0.34777209]\n",
      " [1.89280957 0.39370425]\n",
      " [1.90851754 0.48556858]\n",
      " [1.9242255  0.45275989]\n",
      " [1.93993346 0.38714251]\n",
      " [1.95564143 0.43963641]\n",
      " [1.97134939 0.51181553]\n",
      " [1.98705735 0.48556858]\n",
      " [2.00276532 0.53150074]\n",
      " [2.01847328 0.59711811]\n",
      " [2.03418124 0.6299268 ]\n",
      " [2.04988921 0.6299268 ]\n",
      " [2.06559717 0.53150074]\n",
      " [2.08130513 0.7874085 ]\n",
      " [2.0970131  0.68898244]\n",
      " [2.11272106 0.59055638]\n",
      " [2.12842902 0.74803808]\n",
      " [2.14413699 0.81365545]\n",
      " [2.15984495 0.79397024]\n",
      " [2.17555291 0.89895804]\n",
      " [2.19126088 0.85958761]\n",
      " [2.20696884 0.93176673]\n",
      " [2.2226768  0.95801368]\n",
      " [2.23838477 0.82021719]\n",
      " [2.25409273 0.86614935]\n",
      " [2.26980069 1.12205711]\n",
      " [2.28550866 0.93176673]\n",
      " [2.30121662 1.01050758]\n",
      " [2.31692458 1.01050758]\n",
      " [2.33263255 1.03675453]\n",
      " [2.34834051 0.99082236]\n",
      " [2.36404847 1.14830406]\n",
      " [2.37975644 1.16142754]\n",
      " [2.3954644  1.12205711]\n",
      " [2.41117236 1.1023719 ]\n",
      " [2.42688032 1.09581016]\n",
      " [2.44258829 1.12205711]\n",
      " [2.45829625 0.97113715]\n",
      " [2.47400421 1.19423623]\n",
      " [2.48971218 1.04331626]\n",
      " [2.50542014 0.89895804]\n",
      " [2.5211281  1.14174233]\n",
      " [2.53683607 1.06300148]\n",
      " [2.55254403 1.13518059]\n",
      " [2.56825199 1.08924843]\n",
      " [2.58395996 0.99082236]\n",
      " [2.59966792 1.05643974]\n",
      " [2.61537588 1.06956321]\n",
      " [2.63108385 1.02363105]\n",
      " [2.64679181 1.16798928]\n",
      " [2.66249977 0.92520499]\n",
      " [2.67820774 1.01706931]\n",
      " [2.6939157  0.85302588]\n",
      " [2.70962366 0.91208151]\n",
      " [2.72533163 0.90551978]\n",
      " [2.74103959 0.71522939]\n",
      " [2.75674755 0.83334066]\n",
      " [2.77245552 0.6824207 ]\n",
      " [2.78816348 0.69554418]\n",
      " [2.80387144 0.70866765]\n",
      " [2.81957941 0.64961201]\n",
      " [2.83528737 0.64961201]\n",
      " [2.85099533 0.57087116]\n",
      " [2.8667033  0.56430943]\n",
      " [2.88241126 0.64305028]\n",
      " [2.89811922 0.50525379]\n",
      " [2.91382719 0.42651294]\n",
      " [2.92953515 0.47900684]\n",
      " [2.94524311 0.34777209]\n",
      " [2.96095108 0.34121035]\n",
      " [2.97665904 0.28215471]\n",
      " [2.992367   0.25590776]\n",
      " [3.00807497 0.17060518]\n",
      " [3.02378293 0.19029039]\n",
      " [3.03949089 0.19685213]\n",
      " [3.05519886 0.19029039]\n",
      " [3.07090682 0.13779649]\n",
      " [3.08661478 0.07874085]\n",
      " [3.10232275 0.07874085]\n",
      " [3.11803071 0.03937043]\n",
      " [3.13373867 0.00656174]]\n"
     ]
    }
   ],
   "source": [
    "\n",
    "# generate the selection string so we only iterate over the atoms\n",
    "# that can possibly participate in the desired bond\n",
    "# I.E, if you have particles of type A, B, and C,\n",
    "# You don't want to consider bonds that involve B and C atoms\n",
    "\n",
    "selection_string = f\"name {A_name} or name {B_name} or name {C_name}\"\n",
    "\n",
    "all_angles = []\n",
    "\n",
    "# Select atoms based on the selection string\n",
    "for ts in u.trajectory[start:stop]:\n",
    "    relevent_atoms = u.select_atoms(selection_string)\n",
    "\n",
    "    # Iterate over all of the angles in the selection from the universe\n",
    "    for angle in relevent_atoms.angles:\n",
    "        angled_atoms = list(angle.atoms.names)\n",
    "\n",
    "        # Check if the bond contains both A_name and B_name\n",
    "        if A_name in angled_atoms and B_name in angled_atoms:\n",
    "            if degrees:\n",
    "                all_angles.append(angle.value()) # by default this is in degrees\n",
    "            else:\n",
    "                all_angles.append(np.radians(angle.value()))\n",
    "\n",
    "if histogram:\n",
    "        if min(all_angles) < theta_min or max(all_angles) > theta_max:\n",
    "            warnings.warn(\n",
    "                \"There are bond angles that fall outside of \"\n",
    "                \"your set theta_min and theta_max range. \"\n",
    "                \"You may want to adjust this range to \"\n",
    "                \"include all bond angles.\"\n",
    "            )\n",
    "        bin_centers, bin_heights = get_histogram(\n",
    "            data=np.array(all_angles),\n",
    "            normalize=normalize,\n",
    "            bins=bins,\n",
    "            x_range=(theta_min, theta_max),\n",
    "        )\n",
    "        print(np.stack((bin_centers, bin_heights)).T)\n",
    "else:\n",
    "    print(np.array(all_angles))"
   ]
  },
  {
   "cell_type": "code",
   "execution_count": null,
   "id": "d02046e6",
   "metadata": {},
   "outputs": [],
   "source": []
  },
  {
   "cell_type": "code",
   "execution_count": null,
   "id": "bc0fc9a5",
   "metadata": {},
   "outputs": [],
   "source": []
  },
  {
   "cell_type": "code",
   "execution_count": 120,
   "id": "9515d693",
   "metadata": {},
   "outputs": [],
   "source": [
    "# for angle in u.angles:\n",
    "#     # print(f\"Angle: {angle}, Atoms: {angle.atoms}, Value: {angle.value()}\")"
   ]
  },
  {
   "cell_type": "code",
   "execution_count": null,
   "id": "5b467e4f",
   "metadata": {},
   "outputs": [],
   "source": []
  }
 ],
 "metadata": {
  "kernelspec": {
   "display_name": "hoomd-analysis",
   "language": "python",
   "name": "python3"
  },
  "language_info": {
   "codemirror_mode": {
    "name": "ipython",
    "version": 3
   },
   "file_extension": ".py",
   "mimetype": "text/x-python",
   "name": "python",
   "nbconvert_exporter": "python",
   "pygments_lexer": "ipython3",
   "version": "3.12.11"
  }
 },
 "nbformat": 4,
 "nbformat_minor": 5
}
